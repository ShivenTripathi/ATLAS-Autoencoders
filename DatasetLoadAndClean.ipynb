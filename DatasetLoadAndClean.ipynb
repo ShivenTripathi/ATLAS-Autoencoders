{
  "nbformat": 4,
  "nbformat_minor": 0,
  "metadata": {
    "colab": {
      "name": "DatasetLoadAndClean.ipynb",
      "provenance": []
    },
    "kernelspec": {
      "name": "python3",
      "display_name": "Python 3"
    },
    "accelerator": "GPU"
  },
  "cells": [
    {
      "cell_type": "code",
      "metadata": {
        "colab": {
          "base_uri": "https://localhost:8080/"
        },
        "id": "zeuat1HdB4pF",
        "outputId": "1bce63a1-a352-4c33-e09b-8723771ef989"
      },
      "source": [
        "import numpy as np\n",
        "import pandas as pd\n",
        "\n",
        "%cd /content/drive/MyDrive/GSoC 21 CERN"
      ],
      "execution_count": null,
      "outputs": [
        {
          "output_type": "stream",
          "text": [
            "/content/drive/MyDrive/GSoC 21 CERN\n"
          ],
          "name": "stdout"
        }
      ]
    },
    {
      "cell_type": "markdown",
      "metadata": {
        "id": "HCm0tkJjce8A"
      },
      "source": [
        "### Load dataset from Google Drive"
      ]
    },
    {
      "cell_type": "code",
      "metadata": {
        "id": "QFJzWlhLDlQv",
        "colab": {
          "base_uri": "https://localhost:8080/",
          "height": 309
        },
        "outputId": "8ab32c55-e992-4be0-abea-d04191598e6e"
      },
      "source": [
        "df = pd.DataFrame([line.strip().split(';') for line in open('monojet_Zp2000.0_DM_50.0_chan3.csv', 'r')])\n",
        "df.head()"
      ],
      "execution_count": null,
      "outputs": [
        {
          "output_type": "execute_result",
          "data": {
            "text/html": [
              "<div>\n",
              "<style scoped>\n",
              "    .dataframe tbody tr th:only-of-type {\n",
              "        vertical-align: middle;\n",
              "    }\n",
              "\n",
              "    .dataframe tbody tr th {\n",
              "        vertical-align: top;\n",
              "    }\n",
              "\n",
              "    .dataframe thead th {\n",
              "        text-align: right;\n",
              "    }\n",
              "</style>\n",
              "<table border=\"1\" class=\"dataframe\">\n",
              "  <thead>\n",
              "    <tr style=\"text-align: right;\">\n",
              "      <th></th>\n",
              "      <th>0</th>\n",
              "      <th>1</th>\n",
              "      <th>2</th>\n",
              "      <th>3</th>\n",
              "      <th>4</th>\n",
              "      <th>5</th>\n",
              "      <th>6</th>\n",
              "      <th>7</th>\n",
              "      <th>8</th>\n",
              "      <th>9</th>\n",
              "      <th>10</th>\n",
              "      <th>11</th>\n",
              "      <th>12</th>\n",
              "      <th>13</th>\n",
              "      <th>14</th>\n",
              "      <th>15</th>\n",
              "      <th>16</th>\n",
              "      <th>17</th>\n",
              "    </tr>\n",
              "  </thead>\n",
              "  <tbody>\n",
              "    <tr>\n",
              "      <th>0</th>\n",
              "      <td>354</td>\n",
              "      <td>monojet_Zp2000.0_DM_50.0</td>\n",
              "      <td>2.44336e-05</td>\n",
              "      <td>832841</td>\n",
              "      <td>-1.22431</td>\n",
              "      <td>b,947383,824498,-0.523103,1.64421</td>\n",
              "      <td>j,258722,243675,0.328962,2.25014</td>\n",
              "      <td>j,520092,108590,-2.2473,-1.85679</td>\n",
              "      <td>j,383024,88405.6,2.14516,-1.95635</td>\n",
              "      <td>j,39507.6,35365.1,0.47046,-1.16445</td>\n",
              "      <td>j,225430,26878.2,-2.81608,-2.25938</td>\n",
              "      <td></td>\n",
              "      <td>None</td>\n",
              "      <td>None</td>\n",
              "      <td>None</td>\n",
              "      <td>None</td>\n",
              "      <td>None</td>\n",
              "      <td>None</td>\n",
              "    </tr>\n",
              "    <tr>\n",
              "      <th>1</th>\n",
              "      <td>354</td>\n",
              "      <td>monojet_Zp2000.0_DM_50.0</td>\n",
              "      <td>2.44336e-05</td>\n",
              "      <td>732115</td>\n",
              "      <td>1.17245</td>\n",
              "      <td>j,1.06946e+06,751597,0.858186,-1.84217</td>\n",
              "      <td>j,457647,110079,2.10287,2.17501</td>\n",
              "      <td>j,49649.1,30875.2,-1.03189,-1.7992</td>\n",
              "      <td></td>\n",
              "      <td>None</td>\n",
              "      <td>None</td>\n",
              "      <td>None</td>\n",
              "      <td>None</td>\n",
              "      <td>None</td>\n",
              "      <td>None</td>\n",
              "      <td>None</td>\n",
              "      <td>None</td>\n",
              "      <td>None</td>\n",
              "    </tr>\n",
              "    <tr>\n",
              "      <th>2</th>\n",
              "      <td>354</td>\n",
              "      <td>monojet_Zp2000.0_DM_50.0</td>\n",
              "      <td>2.44336e-05</td>\n",
              "      <td>1.05628e+06</td>\n",
              "      <td>-3.06744</td>\n",
              "      <td>j,676000,640429,0.33045,0.704554</td>\n",
              "      <td>j,1.2393e+06,602104,1.34324,-0.550856</td>\n",
              "      <td>j,193865,44825.7,-2.14231,-0.965933</td>\n",
              "      <td>j,28217.2,24926.6,-0.454264,0.516676</td>\n",
              "      <td></td>\n",
              "      <td>None</td>\n",
              "      <td>None</td>\n",
              "      <td>None</td>\n",
              "      <td>None</td>\n",
              "      <td>None</td>\n",
              "      <td>None</td>\n",
              "      <td>None</td>\n",
              "      <td>None</td>\n",
              "    </tr>\n",
              "    <tr>\n",
              "      <th>3</th>\n",
              "      <td>354</td>\n",
              "      <td>monojet_Zp2000.0_DM_50.0</td>\n",
              "      <td>2.44336e-05</td>\n",
              "      <td>631781</td>\n",
              "      <td>1.64181</td>\n",
              "      <td>j,936707,616229,0.973383,-1.56592</td>\n",
              "      <td>j,75998,52304.3,0.905489,-0.806736</td>\n",
              "      <td></td>\n",
              "      <td>None</td>\n",
              "      <td>None</td>\n",
              "      <td>None</td>\n",
              "      <td>None</td>\n",
              "      <td>None</td>\n",
              "      <td>None</td>\n",
              "      <td>None</td>\n",
              "      <td>None</td>\n",
              "      <td>None</td>\n",
              "      <td>None</td>\n",
              "    </tr>\n",
              "    <tr>\n",
              "      <th>4</th>\n",
              "      <td>354</td>\n",
              "      <td>monojet_Zp2000.0_DM_50.0</td>\n",
              "      <td>2.44336e-05</td>\n",
              "      <td>457316</td>\n",
              "      <td>-1.87536</td>\n",
              "      <td>j,640313,589524,0.390749,1.23734</td>\n",
              "      <td>j,332790,126272,1.61998,-1.85524</td>\n",
              "      <td></td>\n",
              "      <td>None</td>\n",
              "      <td>None</td>\n",
              "      <td>None</td>\n",
              "      <td>None</td>\n",
              "      <td>None</td>\n",
              "      <td>None</td>\n",
              "      <td>None</td>\n",
              "      <td>None</td>\n",
              "      <td>None</td>\n",
              "      <td>None</td>\n",
              "    </tr>\n",
              "  </tbody>\n",
              "</table>\n",
              "</div>"
            ],
            "text/plain": [
              "    0                         1            2   ...    15    16    17\n",
              "0  354  monojet_Zp2000.0_DM_50.0  2.44336e-05  ...  None  None  None\n",
              "1  354  monojet_Zp2000.0_DM_50.0  2.44336e-05  ...  None  None  None\n",
              "2  354  monojet_Zp2000.0_DM_50.0  2.44336e-05  ...  None  None  None\n",
              "3  354  monojet_Zp2000.0_DM_50.0  2.44336e-05  ...  None  None  None\n",
              "4  354  monojet_Zp2000.0_DM_50.0  2.44336e-05  ...  None  None  None\n",
              "\n",
              "[5 rows x 18 columns]"
            ]
          },
          "metadata": {
            "tags": []
          },
          "execution_count": 2
        }
      ]
    },
    {
      "cell_type": "markdown",
      "metadata": {
        "id": "FEJR8GqbcjJz"
      },
      "source": [
        "### Keep only first 5 columns from the dataset"
      ]
    },
    {
      "cell_type": "code",
      "metadata": {
        "colab": {
          "base_uri": "https://localhost:8080/"
        },
        "id": "yL45WH76D98i",
        "outputId": "fbd8d05b-df06-498c-eca2-7bb5f2eb847a"
      },
      "source": [
        "df=df.values\n",
        "df=df[:,5:].reshape(-1)\n",
        "print(df[:5])"
      ],
      "execution_count": null,
      "outputs": [
        {
          "output_type": "stream",
          "text": [
            "['b,947383,824498,-0.523103,1.64421' 'j,258722,243675,0.328962,2.25014'\n",
            " 'j,520092,108590,-2.2473,-1.85679' 'j,383024,88405.6,2.14516,-1.95635'\n",
            " 'j,39507.6,35365.1,0.47046,-1.16445']\n"
          ],
          "name": "stdout"
        }
      ]
    },
    {
      "cell_type": "markdown",
      "metadata": {
        "id": "TNd40zTLcq5y"
      },
      "source": [
        "### Remove rows containing null values"
      ]
    },
    {
      "cell_type": "code",
      "metadata": {
        "colab": {
          "base_uri": "https://localhost:8080/"
        },
        "id": "d_WUUR2LF3Wc",
        "outputId": "3aedef44-c1b4-4933-dbf8-1eca556e3b03"
      },
      "source": [
        "df=df[df!=None]\n",
        "df=df[df!='']\n",
        "print(df[:5])"
      ],
      "execution_count": null,
      "outputs": [
        {
          "output_type": "stream",
          "text": [
            "['b,947383,824498,-0.523103,1.64421' 'j,258722,243675,0.328962,2.25014'\n",
            " 'j,520092,108590,-2.2473,-1.85679' 'j,383024,88405.6,2.14516,-1.95635'\n",
            " 'j,39507.6,35365.1,0.47046,-1.16445']\n"
          ],
          "name": "stdout"
        }
      ]
    },
    {
      "cell_type": "code",
      "metadata": {
        "colab": {
          "base_uri": "https://localhost:8080/"
        },
        "id": "tN9Om2gnGnSa",
        "outputId": "081ff8d3-db76-46f2-a98d-5d3cfdf3e4eb"
      },
      "source": [
        "df = np.array([d.split(',') for d in df])\n",
        "print(df[:5])\n",
        "print(np.shape(df))"
      ],
      "execution_count": null,
      "outputs": [
        {
          "output_type": "stream",
          "text": [
            "[['b' '947383' '824498' '-0.523103' '1.64421']\n",
            " ['j' '258722' '243675' '0.328962' '2.25014']\n",
            " ['j' '520092' '108590' '-2.2473' '-1.85679']\n",
            " ['j' '383024' '88405.6' '2.14516' '-1.95635']\n",
            " ['j' '39507.6' '35365.1' '0.47046' '-1.16445']]\n",
            "(23473, 5)\n"
          ],
          "name": "stdout"
        }
      ]
    },
    {
      "cell_type": "markdown",
      "metadata": {
        "id": "CQLPKLvZc3l5"
      },
      "source": [
        "### Keep only observations with obj<sub>id</sub> = j\n",
        "\n",
        "And remove the first column containing obj<sub>id</sub>"
      ]
    },
    {
      "cell_type": "code",
      "metadata": {
        "colab": {
          "base_uri": "https://localhost:8080/"
        },
        "id": "MySIxQoQIaMu",
        "outputId": "11ff4358-1af5-495a-bd73-cb60ae994d50"
      },
      "source": [
        "df=df[df[:,0]=='j']\n",
        "print(df[:5])\n",
        "print(np.shape(df))"
      ],
      "execution_count": null,
      "outputs": [
        {
          "output_type": "stream",
          "text": [
            "[['j' '258722' '243675' '0.328962' '2.25014']\n",
            " ['j' '520092' '108590' '-2.2473' '-1.85679']\n",
            " ['j' '383024' '88405.6' '2.14516' '-1.95635']\n",
            " ['j' '39507.6' '35365.1' '0.47046' '-1.16445']\n",
            " ['j' '225430' '26878.2' '-2.81608' '-2.25938']]\n",
            "(22661, 5)\n"
          ],
          "name": "stdout"
        }
      ]
    },
    {
      "cell_type": "code",
      "metadata": {
        "colab": {
          "base_uri": "https://localhost:8080/"
        },
        "id": "fqxutfwkJmE-",
        "outputId": "8ad061ff-538c-4139-99c4-3bae8b47ddff"
      },
      "source": [
        "df=df[:,1:]\n",
        "print(df[:5])\n",
        "print(np.shape(df))"
      ],
      "execution_count": null,
      "outputs": [
        {
          "output_type": "stream",
          "text": [
            "[['258722' '243675' '0.328962' '2.25014']\n",
            " ['520092' '108590' '-2.2473' '-1.85679']\n",
            " ['383024' '88405.6' '2.14516' '-1.95635']\n",
            " ['39507.6' '35365.1' '0.47046' '-1.16445']\n",
            " ['225430' '26878.2' '-2.81608' '-2.25938']]\n",
            "(22661, 4)\n"
          ],
          "name": "stdout"
        }
      ]
    },
    {
      "cell_type": "code",
      "metadata": {
        "colab": {
          "base_uri": "https://localhost:8080/"
        },
        "id": "nbiNMxn5J56w",
        "outputId": "b5077b36-100c-4fa2-afe7-53365eaacf14"
      },
      "source": [
        "df=df.astype(float)\n",
        "print(df[:5])\n",
        "print(np.shape(df))"
      ],
      "execution_count": null,
      "outputs": [
        {
          "output_type": "stream",
          "text": [
            "[[ 2.58722e+05  2.43675e+05  3.28962e-01  2.25014e+00]\n",
            " [ 5.20092e+05  1.08590e+05 -2.24730e+00 -1.85679e+00]\n",
            " [ 3.83024e+05  8.84056e+04  2.14516e+00 -1.95635e+00]\n",
            " [ 3.95076e+04  3.53651e+04  4.70460e-01 -1.16445e+00]\n",
            " [ 2.25430e+05  2.68782e+04 -2.81608e+00 -2.25938e+00]]\n",
            "(22661, 4)\n"
          ],
          "name": "stdout"
        }
      ]
    },
    {
      "cell_type": "code",
      "metadata": {
        "colab": {
          "base_uri": "https://localhost:8080/",
          "height": 204
        },
        "id": "P2RGkf71KY4d",
        "outputId": "45f1cdf8-a175-4d24-d314-a1fc70f18a82"
      },
      "source": [
        "df = pd.DataFrame(df, columns=['E', 'pt', 'eta', 'phi'])\n",
        "df.head()"
      ],
      "execution_count": null,
      "outputs": [
        {
          "output_type": "execute_result",
          "data": {
            "text/html": [
              "<div>\n",
              "<style scoped>\n",
              "    .dataframe tbody tr th:only-of-type {\n",
              "        vertical-align: middle;\n",
              "    }\n",
              "\n",
              "    .dataframe tbody tr th {\n",
              "        vertical-align: top;\n",
              "    }\n",
              "\n",
              "    .dataframe thead th {\n",
              "        text-align: right;\n",
              "    }\n",
              "</style>\n",
              "<table border=\"1\" class=\"dataframe\">\n",
              "  <thead>\n",
              "    <tr style=\"text-align: right;\">\n",
              "      <th></th>\n",
              "      <th>E</th>\n",
              "      <th>pt</th>\n",
              "      <th>eta</th>\n",
              "      <th>phi</th>\n",
              "    </tr>\n",
              "  </thead>\n",
              "  <tbody>\n",
              "    <tr>\n",
              "      <th>0</th>\n",
              "      <td>258722.0</td>\n",
              "      <td>243675.0</td>\n",
              "      <td>0.328962</td>\n",
              "      <td>2.25014</td>\n",
              "    </tr>\n",
              "    <tr>\n",
              "      <th>1</th>\n",
              "      <td>520092.0</td>\n",
              "      <td>108590.0</td>\n",
              "      <td>-2.247300</td>\n",
              "      <td>-1.85679</td>\n",
              "    </tr>\n",
              "    <tr>\n",
              "      <th>2</th>\n",
              "      <td>383024.0</td>\n",
              "      <td>88405.6</td>\n",
              "      <td>2.145160</td>\n",
              "      <td>-1.95635</td>\n",
              "    </tr>\n",
              "    <tr>\n",
              "      <th>3</th>\n",
              "      <td>39507.6</td>\n",
              "      <td>35365.1</td>\n",
              "      <td>0.470460</td>\n",
              "      <td>-1.16445</td>\n",
              "    </tr>\n",
              "    <tr>\n",
              "      <th>4</th>\n",
              "      <td>225430.0</td>\n",
              "      <td>26878.2</td>\n",
              "      <td>-2.816080</td>\n",
              "      <td>-2.25938</td>\n",
              "    </tr>\n",
              "  </tbody>\n",
              "</table>\n",
              "</div>"
            ],
            "text/plain": [
              "          E        pt       eta      phi\n",
              "0  258722.0  243675.0  0.328962  2.25014\n",
              "1  520092.0  108590.0 -2.247300 -1.85679\n",
              "2  383024.0   88405.6  2.145160 -1.95635\n",
              "3   39507.6   35365.1  0.470460 -1.16445\n",
              "4  225430.0   26878.2 -2.816080 -2.25938"
            ]
          },
          "metadata": {
            "tags": []
          },
          "execution_count": 9
        }
      ]
    },
    {
      "cell_type": "markdown",
      "metadata": {
        "id": "huMpNXHbdLcJ"
      },
      "source": [
        "### Normalise the variables\n",
        "\n",
        "\n",
        " based on the values shared in [dataset.pdf](https://zenodo.org/record/3961917/files/dataset.pdf)"
      ]
    },
    {
      "cell_type": "code",
      "metadata": {
        "colab": {
          "base_uri": "https://localhost:8080/",
          "height": 204
        },
        "id": "CXfdF6EpKoAF",
        "outputId": "ac2c3b03-74ea-4003-d06d-db4b0701bd15"
      },
      "source": [
        "df['eta'] = df['eta'] / 5\n",
        "df['phi'] = df['phi'] / 3\n",
        "df['E'] = np.log10(df['E'])\n",
        "df['pt'] = np.log10(df['pt'])\n",
        "\n",
        "df.head()"
      ],
      "execution_count": null,
      "outputs": [
        {
          "output_type": "execute_result",
          "data": {
            "text/html": [
              "<div>\n",
              "<style scoped>\n",
              "    .dataframe tbody tr th:only-of-type {\n",
              "        vertical-align: middle;\n",
              "    }\n",
              "\n",
              "    .dataframe tbody tr th {\n",
              "        vertical-align: top;\n",
              "    }\n",
              "\n",
              "    .dataframe thead th {\n",
              "        text-align: right;\n",
              "    }\n",
              "</style>\n",
              "<table border=\"1\" class=\"dataframe\">\n",
              "  <thead>\n",
              "    <tr style=\"text-align: right;\">\n",
              "      <th></th>\n",
              "      <th>E</th>\n",
              "      <th>pt</th>\n",
              "      <th>eta</th>\n",
              "      <th>phi</th>\n",
              "    </tr>\n",
              "  </thead>\n",
              "  <tbody>\n",
              "    <tr>\n",
              "      <th>0</th>\n",
              "      <td>5.412833</td>\n",
              "      <td>5.386811</td>\n",
              "      <td>0.065792</td>\n",
              "      <td>0.750047</td>\n",
              "    </tr>\n",
              "    <tr>\n",
              "      <th>1</th>\n",
              "      <td>5.716080</td>\n",
              "      <td>5.035790</td>\n",
              "      <td>-0.449460</td>\n",
              "      <td>-0.618930</td>\n",
              "    </tr>\n",
              "    <tr>\n",
              "      <th>2</th>\n",
              "      <td>5.583226</td>\n",
              "      <td>4.946480</td>\n",
              "      <td>0.429032</td>\n",
              "      <td>-0.652117</td>\n",
              "    </tr>\n",
              "    <tr>\n",
              "      <th>3</th>\n",
              "      <td>4.596681</td>\n",
              "      <td>4.548575</td>\n",
              "      <td>0.094092</td>\n",
              "      <td>-0.388150</td>\n",
              "    </tr>\n",
              "    <tr>\n",
              "      <th>4</th>\n",
              "      <td>5.353012</td>\n",
              "      <td>4.429400</td>\n",
              "      <td>-0.563216</td>\n",
              "      <td>-0.753127</td>\n",
              "    </tr>\n",
              "  </tbody>\n",
              "</table>\n",
              "</div>"
            ],
            "text/plain": [
              "          E        pt       eta       phi\n",
              "0  5.412833  5.386811  0.065792  0.750047\n",
              "1  5.716080  5.035790 -0.449460 -0.618930\n",
              "2  5.583226  4.946480  0.429032 -0.652117\n",
              "3  4.596681  4.548575  0.094092 -0.388150\n",
              "4  5.353012  4.429400 -0.563216 -0.753127"
            ]
          },
          "metadata": {
            "tags": []
          },
          "execution_count": 10
        }
      ]
    },
    {
      "cell_type": "markdown",
      "metadata": {
        "id": "rwks6_5idhH3"
      },
      "source": [
        "### Store the processed dataset dataframe as a pickled dump to be used in the notebook with the model *code*"
      ]
    },
    {
      "cell_type": "code",
      "metadata": {
        "id": "ZUE_Bd-djM1t"
      },
      "source": [
        "df.to_pickle(\"./dataset.pkl\")"
      ],
      "execution_count": null,
      "outputs": []
    }
  ]
}